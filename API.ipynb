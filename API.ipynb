{
 "cells": [
  {
   "cell_type": "code",
   "execution_count": null,
   "metadata": {},
   "outputs": [],
   "source": [
    "from flask import Flask, jsonify\n",
    "from sqlalchemy import create_engine\n",
    "import pandas as pd\n",
    "import psycopg2\n",
    "from config import pg_pass\n",
    "\n"
   ]
  },
  {
   "cell_type": "code",
   "execution_count": null,
   "metadata": {},
   "outputs": [],
   "source": [
    "rds_connection_string = (f'postgres:{pg_pass}@localhost:5432/Movies')\n",
    "engine = create_engine(f'postgresql://{rds_connection_string}')\n",
    "conn = engine.connect()"
   ]
  },
  {
   "cell_type": "code",
   "execution_count": null,
   "metadata": {},
   "outputs": [],
   "source": [
    "engine.table_names()"
   ]
  },
  {
   "cell_type": "code",
   "execution_count": null,
   "metadata": {},
   "outputs": [],
   "source": [
    "data = pd.read_sql_query('SELECT * FROM imdb_movies_b LIMIT 10', conn)\n",
    "data.head()"
   ]
  },
  {
   "cell_type": "code",
   "execution_count": null,
   "metadata": {},
   "outputs": [],
   "source": [
    "movies_data = data.set_index('imdb_title_id').T.to_dict('dict')\n",
    "movies_data"
   ]
  },
  {
   "cell_type": "code",
   "execution_count": null,
   "metadata": {},
   "outputs": [],
   "source": [
    "#STARTING FLAST SERVER\n",
    "app = Flask(__name__)\n",
    "\n",
    "#DEFINING HOME PAGE\n",
    "@app.route('/')\n",
    "def home():\n",
    "    return \"Home Page\"\n",
    "\n",
    "#RETURNING ALL MOVIE_DATA IN JASON FORMAT\n",
    "@app.route('/all_movies')\n",
    "def all_movies():\n",
    "    return jsonify(movies_data)\n",
    "\n",
    "#RETURNING ONLY A SPECIFIC MOVIE RECORD\n",
    "@app.route('/movie/<id>')\n",
    "def profile(id):\n",
    "    try:\n",
    "        return jsonify(movies_data[id])\n",
    "    except:\n",
    "        return \"Movie not available\"\n",
    "\n",
    "\n",
    "\n",
    "app.run()                                                                         "
   ]
  },
  {
   "cell_type": "code",
   "execution_count": null,
   "metadata": {},
   "outputs": [],
   "source": []
  },
  {
   "cell_type": "code",
   "execution_count": null,
   "metadata": {},
   "outputs": [],
   "source": []
  }
 ],
 "metadata": {
  "kernelspec": {
   "display_name": "Python 3",
   "language": "python",
   "name": "python3"
  },
  "language_info": {
   "codemirror_mode": {
    "name": "ipython",
    "version": 3
   },
   "file_extension": ".py",
   "mimetype": "text/x-python",
   "name": "python",
   "nbconvert_exporter": "python",
   "pygments_lexer": "ipython3",
   "version": "3.8.3"
  }
 },
 "nbformat": 4,
 "nbformat_minor": 4
}
